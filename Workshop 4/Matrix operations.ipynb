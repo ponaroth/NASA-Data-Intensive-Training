{
 "cells": [
  {
   "cell_type": "code",
   "execution_count": 4,
   "metadata": {},
   "outputs": [],
   "source": [
    "import numpy as np\n",
    "import numpy.linalg as linalg"
   ]
  },
  {
   "cell_type": "markdown",
   "metadata": {},
   "source": [
    "## Vector operations\n",
    "\n",
    "In the previous workshop, we saw how to use the NumPy library to create and perform mathematical operations on numerical arrays (including vectors, which are considered to be 1D NumPy arrays).  Below is a brief example of vector addition:"
   ]
  },
  {
   "cell_type": "code",
   "execution_count": 2,
   "metadata": {},
   "outputs": [
    {
     "name": "stdout",
     "output_type": "stream",
     "text": [
      "x + y = \n",
      " [-1  1 -4]\n"
     ]
    }
   ],
   "source": [
    "x = np.array([2, 1, -3])\n",
    "y = np.array([-3, 0, -1])\n",
    "print('x + y = \\n', x + y)"
   ]
  },
  {
   "cell_type": "markdown",
   "metadata": {},
   "source": [
    "**Your turn:** Search the NumPy linear algebra documentation https://docs.scipy.org/doc/numpy-1.15.1/reference/routines.linalg.html to find the appropriate functions for computing norms and dot products of vectors. Then:\n",
    "\n",
    "1. Compute the norm of the vector $\\vec{x}$ = [1,2,3,4,5,6,7,8,9,10].\n",
    "2. Compute the dot product $\\vec{x} \\cdot \\vec{y}$ for the vector $\\vec{x}$ above and $\\vec{y}$ = [-1,3,5,12,15,0,4,0.5,-2.5,3]. "
   ]
  },
  {
   "cell_type": "code",
   "execution_count": 19,
   "metadata": {},
   "outputs": [
    {
     "name": "stdout",
     "output_type": "stream",
     "text": [
      "182.5\n"
     ]
    }
   ],
   "source": [
    "x = [1,2,3,4,5,6,7,8,9,10]\n",
    "y = [-1,3,5,12,15,0,4,0.5,-2.5,3]\n",
    "np.dot(x,y)\n",
    "\n",
    "# or\n",
    "x2 = np.array([1,2,3,4,5,6,7,8,9,10])\n",
    "y2 = np.array([-1,3,5,12,15,0,4,0.5,-2.5,3])\n",
    "print(linalg.multi_dot([x2,y2]))\n"
   ]
  },
  {
   "cell_type": "markdown",
   "metadata": {},
   "source": [
    "## Basic matrix operations\n",
    "\n",
    "In the previous workshop, we also saw how to do some basic matrix operations using NumPy. Today we'll deploy more of NumPy's matrix capabilities using its `linalg` routine.\n",
    "\n",
    "First, let's create the matrix $C$ from Example 2.1:"
   ]
  },
  {
   "cell_type": "code",
   "execution_count": 7,
   "metadata": {},
   "outputs": [
    {
     "name": "stdout",
     "output_type": "stream",
     "text": [
      "[[ 1  3]\n",
      " [-2  1]]\n"
     ]
    }
   ],
   "source": [
    "C = np.array([[1, 3], [-2, 1]])\n",
    "print(C)"
   ]
  },
  {
   "cell_type": "markdown",
   "metadata": {},
   "source": [
    "And now let's create the 2x2 identity matrix $I_2$ using the `identity` function:"
   ]
  },
  {
   "cell_type": "code",
   "execution_count": 5,
   "metadata": {},
   "outputs": [
    {
     "name": "stdout",
     "output_type": "stream",
     "text": [
      "[[1. 0.]\n",
      " [0. 1.]]\n"
     ]
    }
   ],
   "source": [
    "I2 = np.identity(2)\n",
    "print(I2)"
   ]
  },
  {
   "cell_type": "markdown",
   "metadata": {},
   "source": [
    "Now we can do a variety of matrix options, such as addition, multiplication of matrix by scalar, or even matrix multiplication:"
   ]
  },
  {
   "cell_type": "code",
   "execution_count": null,
   "metadata": {},
   "outputs": [],
   "source": [
    "print('C + I_2 = \\n', C + I2)  # adding two matrices"
   ]
  },
  {
   "cell_type": "code",
   "execution_count": null,
   "metadata": {},
   "outputs": [],
   "source": [
    "print('-3C = \\n', -3*C)  # multiplying a matrix by a scalar"
   ]
  },
  {
   "cell_type": "code",
   "execution_count": null,
   "metadata": {},
   "outputs": [],
   "source": [
    "print('C x I2 = \\n', np.matmul(C, I2))  # multiplying two matrices"
   ]
  },
  {
   "cell_type": "markdown",
   "metadata": {},
   "source": [
    "**Your turn #1:** Multiply the two matrices given in Example 3.c.2."
   ]
  },
  {
   "cell_type": "code",
   "execution_count": 9,
   "metadata": {},
   "outputs": [
    {
     "name": "stdout",
     "output_type": "stream",
     "text": [
      "[[ 21.  26.  31.  36.]\n",
      " [-30. -32. -34. -36.]\n",
      " [-18. -14. -10.  -6.]]\n"
     ]
    }
   ],
   "source": [
    "a = np.array([[1,2,-1,8,5],[-2,1,0,4,5],[3,1.5,0.5,4,5]])\n",
    "b = np.array([[1,2,3,4],[5,6,7,8],[9,10,11,12],[13,14,15,16],[-17,-18,-19,-20]])\n",
    "\n",
    "print(np.matmul(a,b))"
   ]
  },
  {
   "cell_type": "markdown",
   "metadata": {},
   "source": [
    "**Your turn #2:** Search the NumPy `linalg` documentation to find the functions for computing the inverse and determinant of a square matrix.  Then: \n",
    "\n",
    "1. Compute the inverse of the matrix $C$. Compare your answer to Example 3.e.1.\n",
    "2. Compute the determinant of the matrix $G$ from example 3.e.2."
   ]
  },
  {
   "cell_type": "code",
   "execution_count": 16,
   "metadata": {},
   "outputs": [
    {
     "name": "stdout",
     "output_type": "stream",
     "text": [
      "[[ 0.14285714 -0.42857143]\n",
      " [ 0.28571429  0.14285714]] \n",
      "\n",
      "det g is  0.0\n"
     ]
    }
   ],
   "source": [
    "c = np.array([[1, 3], [-2, 1]])\n",
    "print(linalg.inv(c), \"\\n\")\n",
    "\n",
    "g = np.array([[1,3,0],[-2,2,0],[-2,1,0]])\n",
    "print(\"det g is \", linalg.det(g))"
   ]
  },
  {
   "cell_type": "markdown",
   "metadata": {},
   "source": [
    "## Eigenvalues, eigenvectors, and matrix diagonalization\n",
    "\n",
    "In this notebook we'll follow Example 5.1 and diagonalize the following matrix:\n",
    "\n",
    "$$\n",
    "A =\n",
    "\\begin{bmatrix}\n",
    "1 & 4 \\\\\n",
    "2 & 3\n",
    "\\end{bmatrix}\n",
    "$$"
   ]
  },
  {
   "cell_type": "code",
   "execution_count": 23,
   "metadata": {},
   "outputs": [
    {
     "name": "stdout",
     "output_type": "stream",
     "text": [
      "[[1 4]\n",
      " [2 3]]\n"
     ]
    }
   ],
   "source": [
    "A = np.array([[1, 4],[2, 3]])\n",
    "print(A)"
   ]
  },
  {
   "cell_type": "markdown",
   "metadata": {},
   "source": [
    "As we saw before, we'll need the eigenvalues and eigenvectors of this matrix to find its diagonalized form, $D = P^{-1} A P$:"
   ]
  },
  {
   "cell_type": "code",
   "execution_count": 24,
   "metadata": {},
   "outputs": [
    {
     "data": {
      "text/plain": [
       "(array([-1.,  5.]), array([[-0.89442719, -0.70710678],\n",
       "        [ 0.4472136 , -0.70710678]]))"
      ]
     },
     "execution_count": 24,
     "metadata": {},
     "output_type": "execute_result"
    }
   ],
   "source": [
    "linalg.eig(A)"
   ]
  },
  {
   "cell_type": "markdown",
   "metadata": {},
   "source": [
    "It looks like the eigenvalues of the matrix are returned in the first array, while the *normalized* eigenvectors are returned in the second array (as a matrix!).  [What does it mean to normalize a vector? See http://mathworld.wolfram.com/NormalizedVector.html for more info.] \n",
    "\n",
    "Let's take the eigen*vectors* and form the matrix $P$:"
   ]
  },
  {
   "cell_type": "code",
   "execution_count": 32,
   "metadata": {},
   "outputs": [
    {
     "name": "stdout",
     "output_type": "stream",
     "text": [
      "[[-0.89442719 -0.70710678]\n",
      " [ 0.4472136  -0.70710678]]\n"
     ]
    }
   ],
   "source": [
    "P = linalg.eig(A)[1]\n",
    "print(P)"
   ]
  },
  {
   "cell_type": "markdown",
   "metadata": {},
   "source": [
    "Then to find $D$, we actually calculate $P^{-1} A P$:"
   ]
  },
  {
   "cell_type": "code",
   "execution_count": 36,
   "metadata": {},
   "outputs": [
    {
     "name": "stdout",
     "output_type": "stream",
     "text": [
      "[[-1.0000000e+00  8.8817842e-16]\n",
      " [ 0.0000000e+00  5.0000000e+00]]\n",
      "e-16 is 0\n"
     ]
    }
   ],
   "source": [
    "print(np.matmul(np.matmul(linalg.inv(P), A), P))\n",
    "# ^e-16 is 0\"\n",
    "\n"
   ]
  },
  {
   "cell_type": "markdown",
   "metadata": {},
   "source": [
    "Note that we have to use two successive applications of the `matmul()` function to multiply three matrices together."
   ]
  },
  {
   "cell_type": "markdown",
   "metadata": {},
   "source": [
    "You may have also noticed that $D$ is nothing more than a diagonal matrix with the eigen*values* being the diagonal entries. This suggests that we could form $D$ directly by extracting the eigenvalues of $A$ and placing them on the diagonal:"
   ]
  },
  {
   "cell_type": "code",
   "execution_count": 27,
   "metadata": {},
   "outputs": [
    {
     "name": "stdout",
     "output_type": "stream",
     "text": [
      "[[-1.  0.]\n",
      " [ 0.  5.]]\n"
     ]
    }
   ],
   "source": [
    "D = np.diag(linalg.eig(A)[0])\n",
    "print(D)"
   ]
  },
  {
   "cell_type": "markdown",
   "metadata": {},
   "source": [
    "One thing that matrix diagonalization is useful for is calculating powers of matrices. For example, suppose that you want to calculate $A^3$. (power to diagonal) This can be accomplished by calculating $P D^3 P^{-1}$ (where $D^3$ can be calculated simply by cubing each of the entries of $D$):"
   ]
  },
  {
   "cell_type": "code",
   "execution_count": 28,
   "metadata": {},
   "outputs": [
    {
     "data": {
      "text/plain": [
       "array([[41., 84.],\n",
       "       [42., 83.]])"
      ]
     },
     "execution_count": 28,
     "metadata": {},
     "output_type": "execute_result"
    }
   ],
   "source": [
    "np.matmul(np.matmul(P, D**3), linalg.inv(P))  # calculate A^3 by doing P D^3 P^-1"
   ]
  },
  {
   "cell_type": "markdown",
   "metadata": {},
   "source": [
    "You might suspect, however, that NumPy has a way to calculate powers of square matrices in an even more direct way.\n",
    "\n",
    "**Your turn:** Search the NumPy `linalg` documentation to find a function that can compute powers of square matrices directly. Use it to calculate $A^3$."
   ]
  },
  {
   "cell_type": "code",
   "execution_count": 37,
   "metadata": {},
   "outputs": [
    {
     "data": {
      "text/plain": [
       "array([[41, 84],\n",
       "       [42, 83]])"
      ]
     },
     "execution_count": 37,
     "metadata": {},
     "output_type": "execute_result"
    }
   ],
   "source": [
    "linalg.matrix_power(A, 3)"
   ]
  },
  {
   "cell_type": "code",
   "execution_count": 8,
   "metadata": {},
   "outputs": [
    {
     "name": "stdout",
     "output_type": "stream",
     "text": [
      "[0.0002151  0.00011949 0.00334417]\n"
     ]
    }
   ],
   "source": [
    "#example 6.a.2: deduce BCS index formula\n",
    "#BCS = x1(USA) + x2(Harris) + x3(computer)\n",
    "#find x1, x2, x3\n",
    "\n",
    "#[1482*x1 + 2699*x2+ 100*x3] = 0.9757\n",
    "#[1481*x1+ 2776*x2+ 89*x3] = 0.9479\n",
    "#[1408*x1+ 2616*x2 + 94*x3 ] = 0.9298\n",
    "# m is ranking, n is BCS index\n",
    "m = np.array([[1482,2699,100],[1481,2776,89],[1408,2616,94]])\n",
    "n = np.array([0.9757, 0.9479, 0.9298])\n",
    "\n",
    "formula = linalg.solve(m,n)\n",
    "print(formula)"
   ]
  },
  {
   "cell_type": "code",
   "execution_count": 9,
   "metadata": {},
   "outputs": [
    {
     "data": {
      "text/plain": [
       "array([0.9757, 0.9479, 0.9298])"
      ]
     },
     "execution_count": 9,
     "metadata": {},
     "output_type": "execute_result"
    }
   ],
   "source": [
    "#prove\n",
    "np.dot(m,formula)"
   ]
  },
  {
   "cell_type": "code",
   "execution_count": 10,
   "metadata": {},
   "outputs": [
    {
     "data": {
      "text/plain": [
       "0.8544952575220968"
      ]
     },
     "execution_count": 10,
     "metadata": {},
     "output_type": "execute_result"
    }
   ],
   "source": [
    "# calculate BCS Index with formula\n",
    "np.dot(formula, np.array([1300,2600,79]))"
   ]
  },
  {
   "cell_type": "code",
   "execution_count": null,
   "metadata": {},
   "outputs": [],
   "source": []
  }
 ],
 "metadata": {
  "kernelspec": {
   "display_name": "Python 3",
   "language": "python",
   "name": "python3"
  },
  "language_info": {
   "codemirror_mode": {
    "name": "ipython",
    "version": 3
   },
   "file_extension": ".py",
   "mimetype": "text/x-python",
   "name": "python",
   "nbconvert_exporter": "python",
   "pygments_lexer": "ipython3",
   "version": "3.7.0"
  }
 },
 "nbformat": 4,
 "nbformat_minor": 2
}
