{
 "cells": [
  {
   "cell_type": "code",
   "execution_count": null,
   "metadata": {},
   "outputs": [],
   "source": [
    "import numpy as np\n",
    "import numpy.linalg as linalg"
   ]
  },
  {
   "cell_type": "markdown",
   "metadata": {},
   "source": [
    "## Solving systems of linear equations\n",
    "\n",
    "Could we solve the matrix-vector equation $A \\vec{x} = \\vec{b}$ in one shot using Python? Yes we can!\n",
    "\n",
    "Here is how we can solve Example 6.a.1 using a built-in function of NumPy's `linalg` routine: "
   ]
  },
  {
   "cell_type": "code",
   "execution_count": null,
   "metadata": {},
   "outputs": [],
   "source": [
    "A = np.array([[1,3],[-2,1]])\n",
    "b = np.array([[10],[1]])\n",
    "print('The matrix A is: \\n',A)\n",
    "print('The vector b is: \\n', b)"
   ]
  },
  {
   "cell_type": "code",
   "execution_count": null,
   "metadata": {},
   "outputs": [],
   "source": [
    "linalg.solve(A,b)"
   ]
  },
  {
   "cell_type": "markdown",
   "metadata": {},
   "source": [
    "### Your turn: the BCS ranking system for college football\n",
    "\n",
    "Determine the formula for the BCS ranking system/index by assuming that the formula is a linear combination of the three terms (USA, Harris, Computer) listed in Example 6.a.2.  \n",
    "\n",
    "**Hint:** Use only three of the rows of ranking and BCS index data for determining the formula. (Why?) Then test your solution using the ranking data from one of the other rows."
   ]
  },
  {
   "cell_type": "code",
   "execution_count": null,
   "metadata": {},
   "outputs": [],
   "source": []
  }
 ],
 "metadata": {
  "kernelspec": {
   "display_name": "Python 3",
   "language": "python",
   "name": "python3"
  },
  "language_info": {
   "codemirror_mode": {
    "name": "ipython",
    "version": 3
   },
   "file_extension": ".py",
   "mimetype": "text/x-python",
   "name": "python",
   "nbconvert_exporter": "python",
   "pygments_lexer": "ipython3",
   "version": "3.7.0"
  }
 },
 "nbformat": 4,
 "nbformat_minor": 2
}
