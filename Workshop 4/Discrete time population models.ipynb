{
 "cells": [
  {
   "cell_type": "code",
   "execution_count": 1,
   "metadata": {},
   "outputs": [],
   "source": [
    "import numpy as np\n",
    "import matplotlib.pyplot as plt\n",
    "%matplotlib inline"
   ]
  },
  {
   "cell_type": "markdown",
   "metadata": {},
   "source": [
    "## Discrete time models for ecological populations\n",
    "\n",
    "In this exercise we will use difference equations of the form $N(t+1) - N(t) = f\\left( N(t) \\right)$ to model ecological populations. Such equations are the discrete time form of _differential_ equations that you'll learn about in calculus (if you haven't already).  Along the way we will also use graphical stability analysis to understand if the equilibrium points of different mdoels are stable or unstable."
   ]
  },
  {
   "cell_type": "markdown",
   "metadata": {},
   "source": [
    "### Exponential growth\n",
    "\n",
    "Perhaps the simplest model of a population is one that involves only the net reproduction rate (i.e., reproduction - mortality) of a species.  This can be represented by the following difference equation:\n",
    "\n",
    "$$\n",
    "N(t+1) - N(t) = r N(t)\n",
    "$$\n",
    "\n",
    "Note that this difference equation is a _linear_ equation of N(t), in that N(t) appears with just a constant coefficient in front of it.  To numerically simulate this model, however, we'll re-write this difference equation as a _recursion equation_:\n",
    "\n",
    "$$\n",
    "N(t+1) = N(t) + r N(t)\n",
    "$$\n",
    "\n",
    "As can be demonstrated below, there are only two possible outcomes with such a model: extinction or exponential growth! "
   ]
  },
  {
   "cell_type": "code",
   "execution_count": 3,
   "metadata": {},
   "outputs": [
    {
     "data": {
      "image/png": "[encoded data removed]",
      "text/plain": [
       "<Figure size 432x288 with 1 Axes>"
      ]
     },
     "metadata": {
      "needs_background": "light"
     },
     "output_type": "display_data"
    }
   ],
   "source": [
    "numsteps = 100  # simulation length in time steps\n",
    "Nt = np.zeros(numsteps+1)  # array to store population numbers\n",
    "\n",
    "Nt[0] = 5  # initial condition: population at t=0\n",
    "r = -0.05  # net reproduction rate\n",
    "\n",
    "for t in range(numsteps):\n",
    "    Nt[t+1] = Nt[t] + r*Nt[t]  # recasting the difference equation as a recursion equation\n",
    "\n",
    "\n",
    "plt.plot(Nt, linewidth=3, color='RoyalBlue')\n",
    "plt.xlabel('Time')\n",
    "plt.ylabel('Population')\n",
    "plt.title('Exponential growth model')\n",
    "plt.ylim(0,round(np.max(Nt))+1)\n",
    "plt.show()"
   ]
  },
  {
   "cell_type": "markdown",
   "metadata": {},
   "source": [
    "**Your turn:** Try varying the parameter $r$ above to see which values of this parameter correspond to which outcome."
   ]
  },
  {
   "cell_type": "markdown",
   "metadata": {},
   "source": [
    "### The logistic model\n",
    "\n",
    "The model above is so simple that it fails to capture the basic behavior of most populations.  One (incredibly popular) model that is a bit more realistic is the logistic model.  In this model the population is assumed to reproduce at a rate $r$ per individual, and the environment is able to support a population of size $K$ (also known as the carrying capacity). The model itself is given by:\n",
    "\n",
    "$$\n",
    "N(t+1) - N(t) = r N(t) \\left(1 - \\frac{N(t)}{K}\\right)\n",
    "$$\n",
    "\n",
    "Note that this model is _nonlinear_ in $N(t)$, as the right hand side contains a term proportional to $\\left(N(t)\\right)^2$. \n",
    "\n",
    "As before, we'll re-write this difference equation as a recursion equation when we implement it in code.  We'll also define a function to calculate the right side of the difference equation. Finally, we'll simulate the model for 100 time steps using the initial condition $N(0) = 5$ and parameters $\\{r, K\\} = \\{0.1, 12\\}$."
   ]
  },
  {
   "cell_type": "code",
   "execution_count": 4,
   "metadata": {},
   "outputs": [],
   "source": [
    "def LogiModelDiff(N, par):\n",
    "    '''Given N(t) this function returns DeltaN for \n",
    "    the logistic model. The vector par contains the\n",
    "    parameters r and K (in that order).'''\n",
    "    r = par[0]\n",
    "    K = par[1]\n",
    "    return r*N*(1 - N/K)"
   ]
  },
  {
   "cell_type": "code",
   "execution_count": 5,
   "metadata": {},
   "outputs": [
    {
     "data": {
      "image/png": "[encoded data removed]",
      "text/plain": [
       "<Figure size 432x288 with 1 Axes>"
      ]
     },
     "metadata": {
      "needs_background": "light"
     },
     "output_type": "display_data"
    }
   ],
   "source": [
    "numsteps = 100  # simulation length in time steps\n",
    "Nt = np.zeros(numsteps+1)  # array to store population numbers\n",
    "\n",
    "Nt[0] = 5  # initial condition: population at t=0\n",
    "modelparams = [0.1, 12]  # model parameters: [r, K]\n",
    "\n",
    "for t in range(numsteps):\n",
    "    Nt[t+1] = Nt[t] + LogiModelDiff(Nt[t], modelparams)\n",
    "    \n",
    "\n",
    "plt.plot(Nt, linewidth=3, color='SeaGreen')\n",
    "plt.xlabel('Time')\n",
    "plt.ylabel('Population')\n",
    "plt.title('Logistic model')\n",
    "plt.ylim(0,round(np.max(Nt))+1)\n",
    "plt.show()"
   ]
  },
  {
   "cell_type": "markdown",
   "metadata": {},
   "source": [
    "**Your turn:** Run the logistic model again in the cell below, but with a different initial population, $N(0) = 25$.  What is the population at $t = 100$?  How does this result compare to the first model run above?"
   ]
  },
  {
   "cell_type": "code",
   "execution_count": null,
   "metadata": {},
   "outputs": [],
   "source": []
  },
  {
   "cell_type": "markdown",
   "metadata": {},
   "source": [
    "Hopefully you have observed that $N(t)$ evolves toward $K$ as $t \\rightarrow \\infty$, regardless of the initial condition $N(0)$. Is there a simple way that we could explain this behavior?\n",
    "\n",
    "Yes! Let's look at a graph of $\\Delta N$ vs. $N$, where \n",
    "\n",
    "$$\n",
    "\\Delta N = r N \\left(1 - \\frac{N}{K}\\right)\n",
    "$$\n",
    "\n",
    "Luckily we have already defined a function that can calculate $\\Delta N$ for any value of $N$!"
   ]
  },
  {
   "cell_type": "code",
   "execution_count": null,
   "metadata": {},
   "outputs": [],
   "source": [
    "possibleN = np.linspace(start=0, stop=15, num=100)  # grid of possible N values\n",
    "\n",
    "plt.plot(possibleN, LogiModelDiff(possibleN, modelparams), \n",
    "         linewidth=3, color='Tomato')\n",
    "plt.plot([0,15],[0,0],'--', color='SkyBlue')\n",
    "plt.xlabel(r'$N$')\n",
    "plt.ylabel(r'$\\Delta N$')\n",
    "plt.show()"
   ]
  },
  {
   "cell_type": "markdown",
   "metadata": {},
   "source": [
    "Notice that the difference in population $\\Delta N$: \n",
    "1. Is zero when the population is zero (i.e., an extinct population can't spontaneously come into being!); \n",
    "2. Increases as $N$ increases...up to some point; \n",
    "3. Begins to decrease after that point, crossing zero at $N = K$;\n",
    "4. Is negative for all larger values of $N$.\n",
    "\n",
    "**Group discussion**: What does this imply about the _stability_ of the model about the equilibrium point $N = K$?"
   ]
  },
  {
   "cell_type": "markdown",
   "metadata": {},
   "source": [
    "### Your turn: the Ricker model\n",
    "\n",
    "A slightly more sophisticated population model is the Ricker model, which models the interaction of the population with its environment in a less \"gentle\" way than the logistic model:\n",
    "\n",
    "$$\n",
    "N(t+1) - N(t) = (e^{r(1 - N(t)/K)} - 1)N(t)\n",
    "$$\n",
    "\n",
    "1. Create a function `RickerModelDiff` that takes the current value $N(t)$ and returns the difference value $(e^{r(1 - N(t)/K)} - 1)N(t)$.\n",
    "2. Simulate this model for 100 time steps using the initial condition $N(0) = 140$ and parameters $\\{r, K\\} = \\{0.1, 12\\}$.  Plot your result!\n",
    "3. **If you have time:** Create a plot of $\\Delta N$ vs. $N$ and determine if the non-zero equilibrium point of this model is stable."
   ]
  },
  {
   "cell_type": "code",
   "execution_count": null,
   "metadata": {},
   "outputs": [],
   "source": []
  }
 ],
 "metadata": {
  "kernelspec": {
   "display_name": "Python 3",
   "language": "python",
   "name": "python3"
  },
  "language_info": {
   "codemirror_mode": {
    "name": "ipython",
    "version": 3
   },
   "file_extension": ".py",
   "mimetype": "text/x-python",
   "name": "python",
   "nbconvert_exporter": "python",
   "pygments_lexer": "ipython3",
   "version": "3.7.0"
  }
 },
 "nbformat": 4,
 "nbformat_minor": 2
}
