{
 "cells": [
  {
   "cell_type": "markdown",
   "metadata": {
    "slideshow": {
     "slide_type": "slide"
    }
   },
   "source": [
    "# Writing a program to compute $\\pi$"
   ]
  },
  {
   "cell_type": "markdown",
   "metadata": {
    "slideshow": {
     "slide_type": "slide"
    }
   },
   "source": [
    "## Getting random"
   ]
  },
  {
   "cell_type": "markdown",
   "metadata": {
    "slideshow": {
     "slide_type": "-"
    }
   },
   "source": [
    "For a Monte Carlo method, we need a random number generator."
   ]
  },
  {
   "cell_type": "code",
   "execution_count": 2,
   "metadata": {
    "slideshow": {
     "slide_type": "fragment"
    }
   },
   "outputs": [
    {
     "data": {
      "text/plain": [
       "0.8137263349849096"
      ]
     },
     "execution_count": 2,
     "metadata": {},
     "output_type": "execute_result"
    }
   ],
   "source": [
    "import random\n",
    "random.random()"
   ]
  },
  {
   "cell_type": "markdown",
   "metadata": {
    "slideshow": {
     "slide_type": "slide"
    }
   },
   "source": [
    "Enter the following lines into Spyder's editor and run the file."
   ]
  },
  {
   "cell_type": "code",
   "execution_count": 2,
   "metadata": {
    "scrolled": true,
    "slideshow": {
     "slide_type": "-"
    }
   },
   "outputs": [
    {
     "name": "stdout",
     "output_type": "stream",
     "text": [
      "0.6542716249221561\n"
     ]
    }
   ],
   "source": [
    "import random\n",
    "print(random.random())"
   ]
  },
  {
   "cell_type": "markdown",
   "metadata": {
    "slideshow": {
     "slide_type": "fragment"
    }
   },
   "source": [
    "When you're running a program, you have to tell Python when to `print`."
   ]
  },
  {
   "cell_type": "markdown",
   "metadata": {
    "slideshow": {
     "slide_type": "slide"
    }
   },
   "source": [
    "We'll need pairs of random numbers. We can put them into tuples. Try this program:"
   ]
  },
  {
   "cell_type": "code",
   "execution_count": 3,
   "metadata": {},
   "outputs": [
    {
     "name": "stdout",
     "output_type": "stream",
     "text": [
      "(0.8906722613370666, 0.8624023536198429)\n",
      "0.8906722613370666\n",
      "0.8624023536198429\n"
     ]
    }
   ],
   "source": [
    "import random\n",
    "a = (random.random(), random.random())\n",
    "print(a)\n",
    "print(a[0])\n",
    "print(a[1])"
   ]
  },
  {
   "cell_type": "markdown",
   "metadata": {
    "slideshow": {
     "slide_type": "fragment"
    }
   },
   "source": [
    "Actually, we're going to need _lots_ of random tuples..."
   ]
  },
  {
   "cell_type": "markdown",
   "metadata": {
    "slideshow": {
     "slide_type": "fragment"
    }
   },
   "source": [
    "...so let's rewrite the program"
   ]
  },
  {
   "cell_type": "markdown",
   "metadata": {
    "slideshow": {
     "slide_type": "slide"
    }
   },
   "source": [
    "### Assignment #1"
   ]
  },
  {
   "cell_type": "markdown",
   "metadata": {},
   "source": [
    "1. Import the `random` module\n",
    "2. Define an empty list: `L = []`\n",
    "3. Start a `for` loop with `range(10000)`\n",
    "4. In the loop, use `L.append()` to add random tuples to `L`\n",
    "5. After the loop, print the last member of `L`\n",
    "6. _Extra credit:_ print the length of `L`"
   ]
  },
  {
   "cell_type": "markdown",
   "metadata": {
    "slideshow": {
     "slide_type": "slide"
    }
   },
   "source": [
    "### Answer to assignment #1"
   ]
  },
  {
   "cell_type": "code",
   "execution_count": 4,
   "metadata": {},
   "outputs": [
    {
     "name": "stdout",
     "output_type": "stream",
     "text": [
      "(0.9141208455640527, 0.33665846842681857)\n",
      "10000\n"
     ]
    }
   ],
   "source": [
    "import random\n",
    "L = []\n",
    "for i in range(10000):\n",
    "  L.append((random.random(), random.random()))\n",
    "print(L[-1])\n",
    "print(len(L))"
   ]
  },
  {
   "cell_type": "markdown",
   "metadata": {
    "slideshow": {
     "slide_type": "slide"
    }
   },
   "source": [
    "### Assignment #2"
   ]
  },
  {
   "cell_type": "markdown",
   "metadata": {},
   "source": [
    "- Click on `random()` in Spyder's editor and type Alt-i or Cmd-i\n",
    "  - The help pane contains the same info as `help(random.random)`\n",
    "  - What kind of random numbers are we getting?\n",
    "- We want uniform random numbers in the interval (-1,+1)\n",
    "- **Modify the body of the loop to multiply and shift the random numbers**"
   ]
  },
  {
   "cell_type": "markdown",
   "metadata": {
    "slideshow": {
     "slide_type": "slide"
    }
   },
   "source": [
    "### Answer to assignment #2"
   ]
  },
  {
   "cell_type": "code",
   "execution_count": 5,
   "metadata": {},
   "outputs": [
    {
     "name": "stdout",
     "output_type": "stream",
     "text": [
      "(-0.3588265620779476, -0.8266254895591438)\n",
      "10000\n"
     ]
    }
   ],
   "source": [
    "import random\n",
    "L = []\n",
    "for i in range(10000):\n",
    "  L.append((2*random.random()-1, 2*random.random()-1))\n",
    "print(L[-1])\n",
    "print(len(L))"
   ]
  },
  {
   "cell_type": "markdown",
   "metadata": {
    "slideshow": {
     "slide_type": "slide"
    }
   },
   "source": [
    "## Functions"
   ]
  },
  {
   "cell_type": "markdown",
   "metadata": {
    "slideshow": {
     "slide_type": "-"
    }
   },
   "source": [
    "We are going to split our program into a function followed by a main program."
   ]
  },
  {
   "cell_type": "markdown",
   "metadata": {
    "slideshow": {
     "slide_type": "slide"
    }
   },
   "source": [
    "### Why functions?"
   ]
  },
  {
   "cell_type": "markdown",
   "metadata": {
    "slideshow": {
     "slide_type": "fragment"
    }
   },
   "source": [
    "- They give organization and structure to your code\n",
    "- They can be tested and verified separately (\"unit testing\")\n",
    "- They help you build your program incrementally"
   ]
  },
  {
   "cell_type": "markdown",
   "metadata": {
    "slideshow": {
     "slide_type": "fragment"
    }
   },
   "source": [
    "- _Alternative:_ define a class with methods (also good, but more complicated)"
   ]
  },
  {
   "cell_type": "markdown",
   "metadata": {
    "slideshow": {
     "slide_type": "slide"
    }
   },
   "source": [
    "### What should go in a function?"
   ]
  },
  {
   "cell_type": "markdown",
   "metadata": {
    "slideshow": {
     "slide_type": "fragment"
    }
   },
   "source": [
    "- A group of statements that achieves a single goal or result\n",
    "- The goal should be identifiable and separable (easy to name!)\n",
    "- The goal should also be natural and logical (not too trivial or too huge)"
   ]
  },
  {
   "cell_type": "markdown",
   "metadata": {
    "slideshow": {
     "slide_type": "fragment"
    }
   },
   "source": [
    "- _Note:_ A function may call other functions to do sub-tasks."
   ]
  },
  {
   "cell_type": "markdown",
   "metadata": {
    "slideshow": {
     "slide_type": "slide"
    }
   },
   "source": [
    "### Assignment #3"
   ]
  },
  {
   "cell_type": "markdown",
   "metadata": {
    "slideshow": {
     "slide_type": "-"
    }
   },
   "source": [
    "_Try it!_ Use this template to split your program into a function and a main program."
   ]
  },
  {
   "cell_type": "code",
   "execution_count": 12,
   "metadata": {
    "slideshow": {
     "slide_type": "-"
    }
   },
   "outputs": [
    {
     "name": "stdout",
     "output_type": "stream",
     "text": [
      "<class 'list'> 0\n"
     ]
    }
   ],
   "source": [
    "import random\n",
    "\n",
    "def make_list_of_random_coords():\n",
    "    L = []\n",
    "    # loop to populate list\n",
    "    return L\n",
    "\n",
    "if __name__ == '__main__':\n",
    "    darts = make_list_of_random_coords()\n",
    "    print(type(darts), len(darts))"
   ]
  },
  {
   "cell_type": "markdown",
   "metadata": {
    "slideshow": {
     "slide_type": "slide"
    }
   },
   "source": [
    "### Assignment #4"
   ]
  },
  {
   "cell_type": "markdown",
   "metadata": {
    "slideshow": {
     "slide_type": "-"
    }
   },
   "source": [
    "Add a parameter `n` to the function, and call it with an argument as shown."
   ]
  },
  {
   "cell_type": "code",
   "execution_count": 7,
   "metadata": {
    "slideshow": {
     "slide_type": "-"
    }
   },
   "outputs": [
    {
     "name": "stdout",
     "output_type": "stream",
     "text": [
      "<class 'list'> 0\n"
     ]
    }
   ],
   "source": [
    "import random\n",
    "\n",
    "def make_list_of_random_coords(n):\n",
    "    L = []\n",
    "    # loop with range(n) to populate list\n",
    "    return L\n",
    "\n",
    "if __name__ == '__main__':\n",
    "    darts = make_list_of_random_coords(10000)\n",
    "    print(type(darts), len(darts))"
   ]
  },
  {
   "cell_type": "markdown",
   "metadata": {
    "slideshow": {
     "slide_type": "slide"
    }
   },
   "source": [
    "### Answer to assignments #3 and #4"
   ]
  },
  {
   "cell_type": "code",
   "execution_count": 13,
   "metadata": {},
   "outputs": [
    {
     "name": "stdout",
     "output_type": "stream",
     "text": [
      "<class 'list'> 10000\n"
     ]
    }
   ],
   "source": [
    "import random\n",
    "\n",
    "def make_list_of_random_coords(n):\n",
    "    L = []\n",
    "    for i in range(n):\n",
    "        L.append((2*random.random()-1, 2*random.random()-1))\n",
    "    return L\n",
    "\n",
    "if __name__ == '__main__':\n",
    "    darts = make_list_of_random_coords(10000)\n",
    "    print(type(darts), len(darts))"
   ]
  },
  {
   "cell_type": "markdown",
   "metadata": {
    "slideshow": {
     "slide_type": "slide"
    }
   },
   "source": [
    "### Adding a function"
   ]
  },
  {
   "cell_type": "markdown",
   "metadata": {},
   "source": [
    "We need a second function to tell us which coordinate pairs fall inside the unit circle."
   ]
  },
  {
   "cell_type": "markdown",
   "metadata": {
    "slideshow": {
     "slide_type": "slide"
    }
   },
   "source": [
    "### What kind of function do we need?"
   ]
  },
  {
   "cell_type": "markdown",
   "metadata": {
    "slideshow": {
     "slide_type": "fragment"
    }
   },
   "source": [
    "- Input is our list of random samples\n",
    "- Output could be just a count of how many are in the unit circle...\n",
    "- But we'll want to know which points are in or out, so we can plot them later"
   ]
  },
  {
   "cell_type": "markdown",
   "metadata": {
    "slideshow": {
     "slide_type": "slide"
    }
   },
   "source": [
    "### Assignment #5"
   ]
  },
  {
   "cell_type": "markdown",
   "metadata": {
    "slideshow": {
     "slide_type": "-"
    }
   },
   "source": [
    "Define a second function, `unit_circle_check(L)`, which should:\n",
    "1. Create an empty list U\n",
    "2. Loop over coordinate pairs P in input list L:\n",
    "  - Compute the distance from (0,0) to P\n",
    "  - Test if the distance is is less than 1\n",
    "  - Append the result of the test to U\n",
    "  - See if you can do all that in one line\n",
    "3. Return U "
   ]
  },
  {
   "cell_type": "markdown",
   "metadata": {
    "slideshow": {
     "slide_type": "slide"
    }
   },
   "source": [
    "### Answer to assignment #5"
   ]
  },
  {
   "cell_type": "code",
   "execution_count": 14,
   "metadata": {
    "slideshow": {
     "slide_type": "-"
    }
   },
   "outputs": [],
   "source": [
    "def unit_circle_check(L):\n",
    "    U = []\n",
    "    for P in L:\n",
    "        U.append(((P[0]*P[0] + P[1]*P[1])**0.5)<1)\n",
    "    return U"
   ]
  },
  {
   "cell_type": "markdown",
   "metadata": {
    "slideshow": {
     "slide_type": "slide"
    }
   },
   "source": [
    "## Testing"
   ]
  },
  {
   "cell_type": "markdown",
   "metadata": {},
   "source": [
    "It's an essential part of code development."
   ]
  },
  {
   "cell_type": "markdown",
   "metadata": {
    "slideshow": {
     "slide_type": "slide"
    }
   },
   "source": [
    "### How do we know if our new function works?"
   ]
  },
  {
   "cell_type": "markdown",
   "metadata": {
    "slideshow": {
     "slide_type": "fragment"
    }
   },
   "source": [
    "- _We don't!_ The only way to tell is to test\n",
    "- _Expect errors!_ Diagnose, fix, test again\n",
    "- We can add temporary code to `__main__` to run the test\n",
    "- In a production code, this would be saved as a **unit test**"
   ]
  },
  {
   "cell_type": "markdown",
   "metadata": {
    "slideshow": {
     "slide_type": "slide"
    }
   },
   "source": [
    "### Assignment #6"
   ]
  },
  {
   "cell_type": "markdown",
   "metadata": {
    "slideshow": {
     "slide_type": "-"
    }
   },
   "source": [
    "At the end of the main program, add code that:\n",
    "1. Creates a short list of fixed coordinate pairs\n",
    "2. Calls `unit_circle_check` with the short list\n",
    "3. Prints the return values for inspection\n",
    "\n",
    "_Suggestion:_ Try removing the `< 1` from the function so it just returns distances"
   ]
  },
  {
   "cell_type": "markdown",
   "metadata": {
    "slideshow": {
     "slide_type": "slide"
    }
   },
   "source": [
    "### Answer to assignment #6"
   ]
  },
  {
   "cell_type": "code",
   "execution_count": 10,
   "metadata": {},
   "outputs": [
    {
     "name": "stdout",
     "output_type": "stream",
     "text": [
      "[True, False]\n"
     ]
    }
   ],
   "source": [
    "# previous function can stay here\n",
    "\n",
    "def unit_circle_check(L):\n",
    "    U = []\n",
    "    for P in L:\n",
    "        U.append(((P[0]*P[0] + P[1]*P[1])**0.5)<1)\n",
    "    return U\n",
    "\n",
    "if __name__ == '__main__':\n",
    "    # previous code can stay here\n",
    "    \n",
    "    few_darts = [(0.3,0.4),(-1,-1)]\n",
    "    hits = unit_circle_check(few_darts)\n",
    "    print(hits)"
   ]
  },
  {
   "cell_type": "markdown",
   "metadata": {
    "slideshow": {
     "slide_type": "slide"
    }
   },
   "source": [
    "### At this point, we have what we need to compute $\\pi$. Can we do it?"
   ]
  },
  {
   "cell_type": "markdown",
   "metadata": {
    "slideshow": {
     "slide_type": "fragment"
    }
   },
   "source": [
    "Put this in `__main__` to find out:"
   ]
  },
  {
   "cell_type": "code",
   "execution_count": 16,
   "metadata": {
    "slideshow": {
     "slide_type": "fragment"
    }
   },
   "outputs": [
    {
     "name": "stdout",
     "output_type": "stream",
     "text": [
      "pi_approx =  3.1296\n"
     ]
    }
   ],
   "source": [
    "if __name__ == '__main__':\n",
    "    darts = make_list_of_random_coords(10000)\n",
    "    hits = unit_circle_check(darts)\n",
    "    pi_approx = 4 * hits.count(True) / len(hits)\n",
    "    print(\"pi_approx = \", pi_approx)"
   ]
  },
  {
   "cell_type": "markdown",
   "metadata": {
    "slideshow": {
     "slide_type": "fragment"
    }
   },
   "source": [
    "Not a great approximation. Did we do something wrong?"
   ]
  },
  {
   "cell_type": "markdown",
   "metadata": {
    "slideshow": {
     "slide_type": "slide"
    }
   },
   "source": [
    "### More testing!!"
   ]
  },
  {
   "cell_type": "markdown",
   "metadata": {
    "slideshow": {
     "slide_type": "-"
    }
   },
   "source": [
    "- Quick tests are good for fixing obvious errors\n",
    "- However, it's also good to do extensive tests for many inputs\n",
    "- We can't look at all this output as text, but we can plot results..."
   ]
  },
  {
   "cell_type": "markdown",
   "metadata": {
    "slideshow": {
     "slide_type": "fragment"
    }
   },
   "source": [
    "Visualization and testing often go together!"
   ]
  },
  {
   "cell_type": "markdown",
   "metadata": {
    "slideshow": {
     "slide_type": "slide"
    }
   },
   "source": [
    "## Visualizing output"
   ]
  },
  {
   "cell_type": "markdown",
   "metadata": {
    "slideshow": {
     "slide_type": "-"
    }
   },
   "source": [
    "We can use matplotlib to make a scatter plot, after rearranging the output with NumPy."
   ]
  },
  {
   "cell_type": "code",
   "execution_count": 12,
   "metadata": {},
   "outputs": [],
   "source": [
    "# this is just for me\n",
    "%matplotlib inline"
   ]
  },
  {
   "cell_type": "markdown",
   "metadata": {
    "slideshow": {
     "slide_type": "slide"
    }
   },
   "source": [
    "### Numpy has useful tools for wrangling data"
   ]
  },
  {
   "cell_type": "markdown",
   "metadata": {
    "slideshow": {
     "slide_type": "fragment"
    }
   },
   "source": [
    "- `numpy.array()` lets you create a NumPy array from array-like data types\n",
    "- `numpy.where()` lets you select data from an array according to a condition"
   ]
  },
  {
   "cell_type": "markdown",
   "metadata": {
    "slideshow": {
     "slide_type": "slide"
    }
   },
   "source": [
    "This shows how to make a 2D array from a list of tuples, and then slice it into two 1D arrays."
   ]
  },
  {
   "cell_type": "code",
   "execution_count": 7,
   "metadata": {},
   "outputs": [
    {
     "name": "stdout",
     "output_type": "stream",
     "text": [
      "[1 3 5] [2 4 6]\n"
     ]
    }
   ],
   "source": [
    "import numpy as np\n",
    "b = np.array([(1,2),(3,4),(5,6)])\n",
    "x = b[:,0]\n",
    "y = b[:,1]\n",
    "print(x,y)"
   ]
  },
  {
   "cell_type": "markdown",
   "metadata": {
    "slideshow": {
     "slide_type": "slide"
    }
   },
   "source": [
    "Then we can select points in the x and y lists according to some condition."
   ]
  },
  {
   "cell_type": "code",
   "execution_count": 10,
   "metadata": {},
   "outputs": [
    {
     "name": "stdout",
     "output_type": "stream",
     "text": [
      "[1 3 5] [2 4 6]\n",
      "[3 5] [4 6]\n"
     ]
    }
   ],
   "source": [
    "import numpy as np\n",
    "b = np.array([(1,2),(3,4),(5,6)])\n",
    "x = b[:,0]\n",
    "y = b[:,1]\n",
    "print(x,y)\n",
    "\n",
    "selected_points = np.where(x+y>3)\n",
    "print(x[selected_points],y[selected_points])"
   ]
  },
  {
   "cell_type": "markdown",
   "metadata": {
    "slideshow": {
     "slide_type": "slide"
    }
   },
   "source": [
    "### Assignment #7"
   ]
  },
  {
   "cell_type": "markdown",
   "metadata": {},
   "source": [
    "Prepare for plotting by putting these tricks in the program. (Yes, just type it in.)"
   ]
  },
  {
   "cell_type": "code",
   "execution_count": 17,
   "metadata": {},
   "outputs": [],
   "source": [
    "import matplotlib.pyplot as plt\n",
    "import numpy as np\n",
    "import random\n",
    "# functions go here\n",
    "\n",
    "if __name__ == '__main__':\n",
    "# main program with pi computation goes here\n",
    "    \n",
    "    d_arr = np.array(darts)\n",
    "    x = d_arr[:,0]\n",
    "    y = d_arr[:,1]\n",
    "    h_arr = np.array(hits)"
   ]
  },
  {
   "cell_type": "markdown",
   "metadata": {
    "slideshow": {
     "slide_type": "slide"
    }
   },
   "source": [
    "And finally, make a plot!"
   ]
  },
  {
   "cell_type": "code",
   "execution_count": 18,
   "metadata": {
    "slideshow": {
     "slide_type": "-"
    }
   },
   "outputs": [
    {
     "data": {
      "text/plain": [
       "<matplotlib.collections.PathCollection at 0x112bcf828>"
      ]
     },
     "execution_count": 18,
     "metadata": {},
     "output_type": "execute_result"
    },
    {
     "data": {
      "image/png": "[encoded data removed]",
      "text/plain": [
       "<Figure size 432x432 with 1 Axes>"
      ]
     },
     "metadata": {
      "needs_background": "light"
     },
     "output_type": "display_data"
    }
   ],
   "source": [
    "    plt.rcParams['figure.figsize'] = (6,6)\n",
    "    plt.scatter(x[np.where(h_arr)], y[np.where(h_arr)], s=1, c='r', marker='.')"
   ]
  },
  {
   "cell_type": "markdown",
   "metadata": {
    "slideshow": {
     "slide_type": "slide"
    }
   },
   "source": [
    "### Assignment #8"
   ]
  },
  {
   "cell_type": "code",
   "execution_count": 19,
   "metadata": {
    "slideshow": {
     "slide_type": "-"
    }
   },
   "outputs": [
    {
     "data": {
      "text/plain": [
       "<matplotlib.collections.PathCollection at 0x1129f4a58>"
      ]
     },
     "execution_count": 19,
     "metadata": {},
     "output_type": "execute_result"
    },
    {
     "data": {
      "image/png": "[encoded data removed]",
      "text/plain": [
       "<Figure size 432x432 with 1 Axes>"
      ]
     },
     "metadata": {
      "needs_background": "light"
     },
     "output_type": "display_data"
    }
   ],
   "source": [
    "    plt.rcParams['figure.figsize'] = (6,6)\n",
    "    plt.scatter(x[np.where(h_arr)], y[np.where(h_arr)], s=1, c='r', marker='.')\n",
    "    # Call plt.scatter again to add points that are outside the unit circle, in blue.\n",
    "    # Note, in NumPy, you can use ~ (tilde) to negate an array of booleans"
   ]
  },
  {
   "cell_type": "markdown",
   "metadata": {
    "slideshow": {
     "slide_type": "slide"
    }
   },
   "source": [
    "### Answer to assignment #8"
   ]
  },
  {
   "cell_type": "code",
   "execution_count": 20,
   "metadata": {
    "slideshow": {
     "slide_type": "-"
    }
   },
   "outputs": [
    {
     "data": {
      "text/plain": [
       "<matplotlib.collections.PathCollection at 0x112f2cef0>"
      ]
     },
     "execution_count": 20,
     "metadata": {},
     "output_type": "execute_result"
    },
    {
     "data": {
      "image/png": "[encoded data removed]",
      "text/plain": [
       "<Figure size 432x432 with 1 Axes>"
      ]
     },
     "metadata": {
      "needs_background": "light"
     },
     "output_type": "display_data"
    }
   ],
   "source": [
    "    plt.rcParams['figure.figsize'] = (6,6)\n",
    "    plt.scatter(x[np.where(h_arr)], y[np.where(h_arr)], s=1, c='r', marker='.')\n",
    "    plt.scatter(x[np.where(~h_arr)], y[np.where(~h_arr)], s=1, c='b', marker='.')"
   ]
  },
  {
   "cell_type": "markdown",
   "metadata": {
    "slideshow": {
     "slide_type": "slide"
    }
   },
   "source": [
    "The plot indicates that the coordinate pairs are valid, and `unit_circle_check` works correctly..."
   ]
  },
  {
   "cell_type": "markdown",
   "metadata": {
    "slideshow": {
     "slide_type": "fragment"
    }
   },
   "source": [
    "It looks like we just need a lot more samples to get a good approximation to $\\pi$."
   ]
  },
  {
   "cell_type": "markdown",
   "metadata": {
    "slideshow": {
     "slide_type": "fragment"
    }
   },
   "source": [
    "Maybe we should have been using NumPy from the beginning?"
   ]
  }
 ],
 "metadata": {
  "celltoolbar": "Slideshow",
  "kernelspec": {
   "display_name": "Python 3",
   "language": "python",
   "name": "python3"
  },
  "language_info": {
   "codemirror_mode": {
    "name": "ipython",
    "version": 3
   },
   "file_extension": ".py",
   "mimetype": "text/x-python",
   "name": "python",
   "nbconvert_exporter": "python",
   "pygments_lexer": "ipython3",
   "version": "3.7.1"
  }
 },
 "nbformat": 4,
 "nbformat_minor": 2
}
